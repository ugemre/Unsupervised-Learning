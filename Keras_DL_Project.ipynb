{
 "cells": [
  {
   "cell_type": "markdown",
   "id": "781e4ffe-129f-4435-8f5c-9eaed7500ccf",
   "metadata": {},
   "source": [
    "## KERAS DL APPLICATION: FINAL PROJECT"
   ]
  },
  {
   "cell_type": "markdown",
   "id": "fb55b285-7d6b-4d3b-9674-f8c9572ed9aa",
   "metadata": {},
   "source": [
    "In this deep learning project, we will follow this given plan:\n",
    "\n",
    "* Explaining main objective of the analysis and project focus\n",
    "* Giving a brief description of the data set\n",
    "* Implementing Data Exploration, Data Cleaning and Feture Engineering\n",
    "* Summary of training three variations of the unsupervised model\n",
    "* Recommending the selected model\n",
    "* Summary Key Findings and Insights\n",
    "* Suggestions for next steps"
   ]
  },
  {
   "cell_type": "markdown",
   "id": "a8f97a78-5609-432d-ae31-3b7a0be64089",
   "metadata": {},
   "source": [
    "### 1. Main Objective:"
   ]
  },
  {
   "cell_type": "markdown",
   "id": "7a70d2a9-ce20-4d77-8c4f-0733f670785b",
   "metadata": {},
   "source": [
    "In this project we will use the data from kaggle's \"30 Days of ML Challenge Competition\" and our focus will be on **\"deep learning regression\"**."
   ]
  },
  {
   "cell_type": "markdown",
   "id": "26d0923b-4321-4e12-8faf-b271e404b8c9",
   "metadata": {},
   "source": [
    "### 2. Brief Description of the Data: "
   ]
  },
  {
   "cell_type": "markdown",
   "id": "2cb7cdfe-1d46-4e6b-b034-d6fbcd9ad4ae",
   "metadata": {},
   "source": [
    "Data set consist of 10 categorical and 14 numerical columns. Also the target column is numerical:\n",
    "\n",
    "**Categorical Features:**\n",
    "- cat0, cat1, cat2: {A,B}\n",
    "- cat3, cat4, cat5: {A,B,C,D}\n",
    "- cat6, cat7: {'A', 'B', 'C', 'D', 'E', 'G', 'H', 'I'}\n",
    "- cat8: {'A', 'B', 'C', 'D', 'E', 'F', 'G'}\n",
    "- cat9: {'A', 'B', 'C', 'D', 'E', 'F', 'G', 'H', 'I', 'J', 'K', 'L', 'M', 'N', 'O'}\n",
    "\n",
    "**Numerical Features:**\n",
    "- cont1, cont2, cont3, cont4, cont5, cont6, cont7, cont8, cont9, cont10, cont11, cont12, cont13"
   ]
  },
  {
   "cell_type": "markdown",
   "id": "5f2bb608-8fbf-41da-8677-61a84917a9a2",
   "metadata": {},
   "source": [
    "As we have 24 attributes, we will reduce the number of features."
   ]
  },
  {
   "cell_type": "markdown",
   "id": "adcb11fc-d972-4d68-a894-6c54830757bf",
   "metadata": {},
   "source": [
    "### 3. Brief Summary of Data Exploration and Data Cleaning/Feature Engineering:"
   ]
  },
  {
   "cell_type": "markdown",
   "id": "176d8881-1b76-499d-9146-e39662cfabf3",
   "metadata": {},
   "source": [
    "Before we start EDA, we will import needed packages and load the given data set."
   ]
  },
  {
   "cell_type": "code",
   "execution_count": 4,
   "id": "2bb48b70-035f-48d6-9060-d316565c490a",
   "metadata": {},
   "outputs": [],
   "source": [
    "# import\n",
    "import pandas as pd\n",
    "import numpy as np\n",
    "import seaborn as sns\n",
    "import matplotlib.pyplot as plt \n",
    "import warnings\n",
    "warnings.simplefilter(action='ignore', category=FutureWarning)\n",
    "\n",
    "# load the data\n",
    "data = pd.read_csv('data_set.csv')"
   ]
  },
  {
   "cell_type": "markdown",
   "id": "bb14a967-2506-49e3-9ea6-2de6c26f97f5",
   "metadata": {},
   "source": [
    "**3a. EDA:**"
   ]
  },
  {
   "cell_type": "code",
   "execution_count": 3,
   "id": "e1470d0c-764c-40ff-8f24-78ed48b5188c",
   "metadata": {},
   "outputs": [
    {
     "data": {
      "text/plain": [
       "(300000, 26)"
      ]
     },
     "execution_count": 3,
     "metadata": {},
     "output_type": "execute_result"
    }
   ],
   "source": [
    "# dimensions of our dataframe\n",
    "data.shape"
   ]
  },
  {
   "cell_type": "code",
   "execution_count": 5,
   "id": "614a81a7-ba9f-4a1c-a5f2-8d647ac935ba",
   "metadata": {},
   "outputs": [
    {
     "data": {
      "text/plain": [
       "id          int64\n",
       "cat0       object\n",
       "cat1       object\n",
       "cat2       object\n",
       "cat3       object\n",
       "cat4       object\n",
       "cat5       object\n",
       "cat6       object\n",
       "cat7       object\n",
       "cat8       object\n",
       "cat9       object\n",
       "cont0     float64\n",
       "cont1     float64\n",
       "cont2     float64\n",
       "cont3     float64\n",
       "cont4     float64\n",
       "cont5     float64\n",
       "cont6     float64\n",
       "cont7     float64\n",
       "cont8     float64\n",
       "cont9     float64\n",
       "cont10    float64\n",
       "cont11    float64\n",
       "cont12    float64\n",
       "cont13    float64\n",
       "target    float64\n",
       "dtype: object"
      ]
     },
     "execution_count": 5,
     "metadata": {},
     "output_type": "execute_result"
    }
   ],
   "source": [
    "data.dtypes"
   ]
  },
  {
   "cell_type": "code",
   "execution_count": 6,
   "id": "91cc4b72-4237-4337-a2c3-d1ea18fec7f2",
   "metadata": {},
   "outputs": [
    {
     "data": {
      "text/html": [
       "<div>\n",
       "<style scoped>\n",
       "    .dataframe tbody tr th:only-of-type {\n",
       "        vertical-align: middle;\n",
       "    }\n",
       "\n",
       "    .dataframe tbody tr th {\n",
       "        vertical-align: top;\n",
       "    }\n",
       "\n",
       "    .dataframe thead th {\n",
       "        text-align: right;\n",
       "    }\n",
       "</style>\n",
       "<table border=\"1\" class=\"dataframe\">\n",
       "  <thead>\n",
       "    <tr style=\"text-align: right;\">\n",
       "      <th></th>\n",
       "      <th>id</th>\n",
       "      <th>cat0</th>\n",
       "      <th>cat1</th>\n",
       "      <th>cat2</th>\n",
       "      <th>cat3</th>\n",
       "      <th>cat4</th>\n",
       "      <th>cat5</th>\n",
       "      <th>cat6</th>\n",
       "      <th>cat7</th>\n",
       "      <th>cat8</th>\n",
       "      <th>...</th>\n",
       "      <th>cont5</th>\n",
       "      <th>cont6</th>\n",
       "      <th>cont7</th>\n",
       "      <th>cont8</th>\n",
       "      <th>cont9</th>\n",
       "      <th>cont10</th>\n",
       "      <th>cont11</th>\n",
       "      <th>cont12</th>\n",
       "      <th>cont13</th>\n",
       "      <th>target</th>\n",
       "    </tr>\n",
       "  </thead>\n",
       "  <tbody>\n",
       "    <tr>\n",
       "      <th>0</th>\n",
       "      <td>1</td>\n",
       "      <td>B</td>\n",
       "      <td>B</td>\n",
       "      <td>B</td>\n",
       "      <td>C</td>\n",
       "      <td>B</td>\n",
       "      <td>B</td>\n",
       "      <td>A</td>\n",
       "      <td>E</td>\n",
       "      <td>C</td>\n",
       "      <td>...</td>\n",
       "      <td>0.400361</td>\n",
       "      <td>0.160266</td>\n",
       "      <td>0.310921</td>\n",
       "      <td>0.389470</td>\n",
       "      <td>0.267559</td>\n",
       "      <td>0.237281</td>\n",
       "      <td>0.377873</td>\n",
       "      <td>0.322401</td>\n",
       "      <td>0.869850</td>\n",
       "      <td>8.113634</td>\n",
       "    </tr>\n",
       "    <tr>\n",
       "      <th>1</th>\n",
       "      <td>2</td>\n",
       "      <td>B</td>\n",
       "      <td>B</td>\n",
       "      <td>A</td>\n",
       "      <td>A</td>\n",
       "      <td>B</td>\n",
       "      <td>D</td>\n",
       "      <td>A</td>\n",
       "      <td>F</td>\n",
       "      <td>A</td>\n",
       "      <td>...</td>\n",
       "      <td>0.533087</td>\n",
       "      <td>0.558922</td>\n",
       "      <td>0.516294</td>\n",
       "      <td>0.594928</td>\n",
       "      <td>0.341439</td>\n",
       "      <td>0.906013</td>\n",
       "      <td>0.921701</td>\n",
       "      <td>0.261975</td>\n",
       "      <td>0.465083</td>\n",
       "      <td>8.481233</td>\n",
       "    </tr>\n",
       "    <tr>\n",
       "      <th>2</th>\n",
       "      <td>3</td>\n",
       "      <td>A</td>\n",
       "      <td>A</td>\n",
       "      <td>A</td>\n",
       "      <td>C</td>\n",
       "      <td>B</td>\n",
       "      <td>D</td>\n",
       "      <td>A</td>\n",
       "      <td>D</td>\n",
       "      <td>A</td>\n",
       "      <td>...</td>\n",
       "      <td>0.650609</td>\n",
       "      <td>0.375348</td>\n",
       "      <td>0.902567</td>\n",
       "      <td>0.555205</td>\n",
       "      <td>0.843531</td>\n",
       "      <td>0.748809</td>\n",
       "      <td>0.620126</td>\n",
       "      <td>0.541474</td>\n",
       "      <td>0.763846</td>\n",
       "      <td>8.364351</td>\n",
       "    </tr>\n",
       "    <tr>\n",
       "      <th>3</th>\n",
       "      <td>4</td>\n",
       "      <td>B</td>\n",
       "      <td>B</td>\n",
       "      <td>A</td>\n",
       "      <td>C</td>\n",
       "      <td>B</td>\n",
       "      <td>D</td>\n",
       "      <td>A</td>\n",
       "      <td>E</td>\n",
       "      <td>C</td>\n",
       "      <td>...</td>\n",
       "      <td>0.668980</td>\n",
       "      <td>0.239061</td>\n",
       "      <td>0.732948</td>\n",
       "      <td>0.679618</td>\n",
       "      <td>0.574844</td>\n",
       "      <td>0.346010</td>\n",
       "      <td>0.714610</td>\n",
       "      <td>0.540150</td>\n",
       "      <td>0.280682</td>\n",
       "      <td>8.049253</td>\n",
       "    </tr>\n",
       "    <tr>\n",
       "      <th>4</th>\n",
       "      <td>6</td>\n",
       "      <td>A</td>\n",
       "      <td>A</td>\n",
       "      <td>A</td>\n",
       "      <td>C</td>\n",
       "      <td>B</td>\n",
       "      <td>D</td>\n",
       "      <td>A</td>\n",
       "      <td>E</td>\n",
       "      <td>A</td>\n",
       "      <td>...</td>\n",
       "      <td>0.686964</td>\n",
       "      <td>0.420667</td>\n",
       "      <td>0.648182</td>\n",
       "      <td>0.684501</td>\n",
       "      <td>0.956692</td>\n",
       "      <td>1.000773</td>\n",
       "      <td>0.776742</td>\n",
       "      <td>0.625849</td>\n",
       "      <td>0.250823</td>\n",
       "      <td>7.972260</td>\n",
       "    </tr>\n",
       "  </tbody>\n",
       "</table>\n",
       "<p>5 rows × 26 columns</p>\n",
       "</div>"
      ],
      "text/plain": [
       "   id cat0 cat1 cat2 cat3 cat4 cat5 cat6 cat7 cat8  ...     cont5     cont6  \\\n",
       "0   1    B    B    B    C    B    B    A    E    C  ...  0.400361  0.160266   \n",
       "1   2    B    B    A    A    B    D    A    F    A  ...  0.533087  0.558922   \n",
       "2   3    A    A    A    C    B    D    A    D    A  ...  0.650609  0.375348   \n",
       "3   4    B    B    A    C    B    D    A    E    C  ...  0.668980  0.239061   \n",
       "4   6    A    A    A    C    B    D    A    E    A  ...  0.686964  0.420667   \n",
       "\n",
       "      cont7     cont8     cont9    cont10    cont11    cont12    cont13  \\\n",
       "0  0.310921  0.389470  0.267559  0.237281  0.377873  0.322401  0.869850   \n",
       "1  0.516294  0.594928  0.341439  0.906013  0.921701  0.261975  0.465083   \n",
       "2  0.902567  0.555205  0.843531  0.748809  0.620126  0.541474  0.763846   \n",
       "3  0.732948  0.679618  0.574844  0.346010  0.714610  0.540150  0.280682   \n",
       "4  0.648182  0.684501  0.956692  1.000773  0.776742  0.625849  0.250823   \n",
       "\n",
       "     target  \n",
       "0  8.113634  \n",
       "1  8.481233  \n",
       "2  8.364351  \n",
       "3  8.049253  \n",
       "4  7.972260  \n",
       "\n",
       "[5 rows x 26 columns]"
      ]
     },
     "execution_count": 6,
     "metadata": {},
     "output_type": "execute_result"
    }
   ],
   "source": [
    "# first 5 rows\n",
    "data.head()"
   ]
  },
  {
   "cell_type": "code",
   "execution_count": 7,
   "id": "54f2763e-78ba-4194-9de5-c5048930026b",
   "metadata": {},
   "outputs": [
    {
     "name": "stdout",
     "output_type": "stream",
     "text": [
      "<class 'pandas.core.frame.DataFrame'>\n",
      "RangeIndex: 300000 entries, 0 to 299999\n",
      "Data columns (total 26 columns):\n",
      " #   Column  Non-Null Count   Dtype  \n",
      "---  ------  --------------   -----  \n",
      " 0   id      300000 non-null  int64  \n",
      " 1   cat0    300000 non-null  object \n",
      " 2   cat1    300000 non-null  object \n",
      " 3   cat2    300000 non-null  object \n",
      " 4   cat3    300000 non-null  object \n",
      " 5   cat4    300000 non-null  object \n",
      " 6   cat5    300000 non-null  object \n",
      " 7   cat6    300000 non-null  object \n",
      " 8   cat7    300000 non-null  object \n",
      " 9   cat8    300000 non-null  object \n",
      " 10  cat9    300000 non-null  object \n",
      " 11  cont0   300000 non-null  float64\n",
      " 12  cont1   300000 non-null  float64\n",
      " 13  cont2   300000 non-null  float64\n",
      " 14  cont3   300000 non-null  float64\n",
      " 15  cont4   300000 non-null  float64\n",
      " 16  cont5   300000 non-null  float64\n",
      " 17  cont6   300000 non-null  float64\n",
      " 18  cont7   300000 non-null  float64\n",
      " 19  cont8   300000 non-null  float64\n",
      " 20  cont9   300000 non-null  float64\n",
      " 21  cont10  300000 non-null  float64\n",
      " 22  cont11  300000 non-null  float64\n",
      " 23  cont12  300000 non-null  float64\n",
      " 24  cont13  300000 non-null  float64\n",
      " 25  target  300000 non-null  float64\n",
      "dtypes: float64(15), int64(1), object(10)\n",
      "memory usage: 59.5+ MB\n"
     ]
    }
   ],
   "source": [
    "# brief information\n",
    "data.info()"
   ]
  },
  {
   "cell_type": "code",
   "execution_count": 8,
   "id": "7184bf60-8615-411c-b641-c2f614f05f97",
   "metadata": {},
   "outputs": [
    {
     "data": {
      "text/html": [
       "<div>\n",
       "<style scoped>\n",
       "    .dataframe tbody tr th:only-of-type {\n",
       "        vertical-align: middle;\n",
       "    }\n",
       "\n",
       "    .dataframe tbody tr th {\n",
       "        vertical-align: top;\n",
       "    }\n",
       "\n",
       "    .dataframe thead th {\n",
       "        text-align: right;\n",
       "    }\n",
       "</style>\n",
       "<table border=\"1\" class=\"dataframe\">\n",
       "  <thead>\n",
       "    <tr style=\"text-align: right;\">\n",
       "      <th></th>\n",
       "      <th>count</th>\n",
       "      <th>mean</th>\n",
       "      <th>std</th>\n",
       "      <th>min</th>\n",
       "      <th>25%</th>\n",
       "      <th>50%</th>\n",
       "      <th>75%</th>\n",
       "      <th>max</th>\n",
       "    </tr>\n",
       "  </thead>\n",
       "  <tbody>\n",
       "    <tr>\n",
       "      <th>id</th>\n",
       "      <td>300000.0</td>\n",
       "      <td>250018.576947</td>\n",
       "      <td>144450.150010</td>\n",
       "      <td>1.000000</td>\n",
       "      <td>124772.500000</td>\n",
       "      <td>250002.500000</td>\n",
       "      <td>375226.500000</td>\n",
       "      <td>499999.000000</td>\n",
       "    </tr>\n",
       "    <tr>\n",
       "      <th>cont0</th>\n",
       "      <td>300000.0</td>\n",
       "      <td>0.527335</td>\n",
       "      <td>0.230599</td>\n",
       "      <td>-0.118039</td>\n",
       "      <td>0.405965</td>\n",
       "      <td>0.497053</td>\n",
       "      <td>0.668060</td>\n",
       "      <td>1.058443</td>\n",
       "    </tr>\n",
       "    <tr>\n",
       "      <th>cont1</th>\n",
       "      <td>300000.0</td>\n",
       "      <td>0.460926</td>\n",
       "      <td>0.214003</td>\n",
       "      <td>-0.069309</td>\n",
       "      <td>0.310494</td>\n",
       "      <td>0.427903</td>\n",
       "      <td>0.615113</td>\n",
       "      <td>0.887253</td>\n",
       "    </tr>\n",
       "    <tr>\n",
       "      <th>cont2</th>\n",
       "      <td>300000.0</td>\n",
       "      <td>0.490498</td>\n",
       "      <td>0.253346</td>\n",
       "      <td>-0.056104</td>\n",
       "      <td>0.300604</td>\n",
       "      <td>0.502462</td>\n",
       "      <td>0.647512</td>\n",
       "      <td>1.034704</td>\n",
       "    </tr>\n",
       "    <tr>\n",
       "      <th>cont3</th>\n",
       "      <td>300000.0</td>\n",
       "      <td>0.496689</td>\n",
       "      <td>0.219199</td>\n",
       "      <td>0.130676</td>\n",
       "      <td>0.329783</td>\n",
       "      <td>0.465026</td>\n",
       "      <td>0.664451</td>\n",
       "      <td>1.039560</td>\n",
       "    </tr>\n",
       "    <tr>\n",
       "      <th>cont4</th>\n",
       "      <td>300000.0</td>\n",
       "      <td>0.491654</td>\n",
       "      <td>0.240074</td>\n",
       "      <td>0.255908</td>\n",
       "      <td>0.284188</td>\n",
       "      <td>0.390470</td>\n",
       "      <td>0.696599</td>\n",
       "      <td>1.055424</td>\n",
       "    </tr>\n",
       "    <tr>\n",
       "      <th>cont5</th>\n",
       "      <td>300000.0</td>\n",
       "      <td>0.510526</td>\n",
       "      <td>0.228232</td>\n",
       "      <td>0.045915</td>\n",
       "      <td>0.354141</td>\n",
       "      <td>0.488865</td>\n",
       "      <td>0.669625</td>\n",
       "      <td>1.067649</td>\n",
       "    </tr>\n",
       "    <tr>\n",
       "      <th>cont6</th>\n",
       "      <td>300000.0</td>\n",
       "      <td>0.467476</td>\n",
       "      <td>0.210331</td>\n",
       "      <td>-0.224689</td>\n",
       "      <td>0.342873</td>\n",
       "      <td>0.429383</td>\n",
       "      <td>0.573383</td>\n",
       "      <td>1.111552</td>\n",
       "    </tr>\n",
       "    <tr>\n",
       "      <th>cont7</th>\n",
       "      <td>300000.0</td>\n",
       "      <td>0.537119</td>\n",
       "      <td>0.218140</td>\n",
       "      <td>0.203763</td>\n",
       "      <td>0.355825</td>\n",
       "      <td>0.504661</td>\n",
       "      <td>0.703441</td>\n",
       "      <td>1.032837</td>\n",
       "    </tr>\n",
       "    <tr>\n",
       "      <th>cont8</th>\n",
       "      <td>300000.0</td>\n",
       "      <td>0.498456</td>\n",
       "      <td>0.239920</td>\n",
       "      <td>-0.260275</td>\n",
       "      <td>0.332486</td>\n",
       "      <td>0.439151</td>\n",
       "      <td>0.606056</td>\n",
       "      <td>1.040229</td>\n",
       "    </tr>\n",
       "    <tr>\n",
       "      <th>cont9</th>\n",
       "      <td>300000.0</td>\n",
       "      <td>0.474872</td>\n",
       "      <td>0.218007</td>\n",
       "      <td>0.117896</td>\n",
       "      <td>0.306874</td>\n",
       "      <td>0.434620</td>\n",
       "      <td>0.614333</td>\n",
       "      <td>0.982922</td>\n",
       "    </tr>\n",
       "    <tr>\n",
       "      <th>cont10</th>\n",
       "      <td>300000.0</td>\n",
       "      <td>0.474492</td>\n",
       "      <td>0.255949</td>\n",
       "      <td>0.048732</td>\n",
       "      <td>0.276017</td>\n",
       "      <td>0.459975</td>\n",
       "      <td>0.691579</td>\n",
       "      <td>1.055960</td>\n",
       "    </tr>\n",
       "    <tr>\n",
       "      <th>cont11</th>\n",
       "      <td>300000.0</td>\n",
       "      <td>0.473216</td>\n",
       "      <td>0.222022</td>\n",
       "      <td>0.052608</td>\n",
       "      <td>0.308151</td>\n",
       "      <td>0.433812</td>\n",
       "      <td>0.642057</td>\n",
       "      <td>1.071444</td>\n",
       "    </tr>\n",
       "    <tr>\n",
       "      <th>cont12</th>\n",
       "      <td>300000.0</td>\n",
       "      <td>0.494561</td>\n",
       "      <td>0.247292</td>\n",
       "      <td>-0.074208</td>\n",
       "      <td>0.289074</td>\n",
       "      <td>0.422887</td>\n",
       "      <td>0.714502</td>\n",
       "      <td>0.975035</td>\n",
       "    </tr>\n",
       "    <tr>\n",
       "      <th>cont13</th>\n",
       "      <td>300000.0</td>\n",
       "      <td>0.508273</td>\n",
       "      <td>0.222950</td>\n",
       "      <td>0.151050</td>\n",
       "      <td>0.300669</td>\n",
       "      <td>0.472400</td>\n",
       "      <td>0.758447</td>\n",
       "      <td>0.905992</td>\n",
       "    </tr>\n",
       "    <tr>\n",
       "      <th>target</th>\n",
       "      <td>300000.0</td>\n",
       "      <td>8.241979</td>\n",
       "      <td>0.746555</td>\n",
       "      <td>0.140329</td>\n",
       "      <td>7.742071</td>\n",
       "      <td>8.191373</td>\n",
       "      <td>8.728634</td>\n",
       "      <td>10.411992</td>\n",
       "    </tr>\n",
       "  </tbody>\n",
       "</table>\n",
       "</div>"
      ],
      "text/plain": [
       "           count           mean            std       min            25%  \\\n",
       "id      300000.0  250018.576947  144450.150010  1.000000  124772.500000   \n",
       "cont0   300000.0       0.527335       0.230599 -0.118039       0.405965   \n",
       "cont1   300000.0       0.460926       0.214003 -0.069309       0.310494   \n",
       "cont2   300000.0       0.490498       0.253346 -0.056104       0.300604   \n",
       "cont3   300000.0       0.496689       0.219199  0.130676       0.329783   \n",
       "cont4   300000.0       0.491654       0.240074  0.255908       0.284188   \n",
       "cont5   300000.0       0.510526       0.228232  0.045915       0.354141   \n",
       "cont6   300000.0       0.467476       0.210331 -0.224689       0.342873   \n",
       "cont7   300000.0       0.537119       0.218140  0.203763       0.355825   \n",
       "cont8   300000.0       0.498456       0.239920 -0.260275       0.332486   \n",
       "cont9   300000.0       0.474872       0.218007  0.117896       0.306874   \n",
       "cont10  300000.0       0.474492       0.255949  0.048732       0.276017   \n",
       "cont11  300000.0       0.473216       0.222022  0.052608       0.308151   \n",
       "cont12  300000.0       0.494561       0.247292 -0.074208       0.289074   \n",
       "cont13  300000.0       0.508273       0.222950  0.151050       0.300669   \n",
       "target  300000.0       8.241979       0.746555  0.140329       7.742071   \n",
       "\n",
       "                  50%            75%            max  \n",
       "id      250002.500000  375226.500000  499999.000000  \n",
       "cont0        0.497053       0.668060       1.058443  \n",
       "cont1        0.427903       0.615113       0.887253  \n",
       "cont2        0.502462       0.647512       1.034704  \n",
       "cont3        0.465026       0.664451       1.039560  \n",
       "cont4        0.390470       0.696599       1.055424  \n",
       "cont5        0.488865       0.669625       1.067649  \n",
       "cont6        0.429383       0.573383       1.111552  \n",
       "cont7        0.504661       0.703441       1.032837  \n",
       "cont8        0.439151       0.606056       1.040229  \n",
       "cont9        0.434620       0.614333       0.982922  \n",
       "cont10       0.459975       0.691579       1.055960  \n",
       "cont11       0.433812       0.642057       1.071444  \n",
       "cont12       0.422887       0.714502       0.975035  \n",
       "cont13       0.472400       0.758447       0.905992  \n",
       "target       8.191373       8.728634      10.411992  "
      ]
     },
     "execution_count": 8,
     "metadata": {},
     "output_type": "execute_result"
    }
   ],
   "source": [
    "# desciption of numeric columns\n",
    "data.describe().T"
   ]
  },
  {
   "cell_type": "markdown",
   "id": "56bddde2-5381-48e8-a6ba-8b0580cc637b",
   "metadata": {},
   "source": [
    "**3b. Data Cleaning:**"
   ]
  },
  {
   "cell_type": "code",
   "execution_count": 9,
   "id": "581bc569-11ed-4dff-aa43-9caa66d9c860",
   "metadata": {},
   "outputs": [
    {
     "data": {
      "text/plain": [
       "False"
      ]
     },
     "execution_count": 9,
     "metadata": {},
     "output_type": "execute_result"
    }
   ],
   "source": [
    "# we check whether data contain any missing value\n",
    "data.isna().any().any()"
   ]
  },
  {
   "cell_type": "code",
   "execution_count": 10,
   "id": "6c8639de-9e44-4b19-957e-ce2184963607",
   "metadata": {},
   "outputs": [
    {
     "data": {
      "text/plain": [
       "False"
      ]
     },
     "execution_count": 10,
     "metadata": {},
     "output_type": "execute_result"
    }
   ],
   "source": [
    "# we check whether data have any duplication\n",
    "data.duplicated().any()"
   ]
  },
  {
   "cell_type": "markdown",
   "id": "3c2a22a8-2a87-47aa-a3fb-361efd074cef",
   "metadata": {},
   "source": [
    "**3c. Feature Engineering:**"
   ]
  },
  {
   "cell_type": "code",
   "execution_count": 11,
   "id": "7bca8bec-ced9-42c9-b476-e7331fce0f72",
   "metadata": {},
   "outputs": [],
   "source": [
    "# First of all we seperate features(X) and target(y)\n",
    "\n",
    "y = data['target']\n",
    "features = data.drop(['target'], axis=1)"
   ]
  },
  {
   "cell_type": "code",
   "execution_count": null,
   "id": "33bbaa3e-cc3a-4930-a9d6-033ab4fd753b",
   "metadata": {},
   "outputs": [],
   "source": [
    "# Now we will use ordinal encoding for categorical data"
   ]
  },
  {
   "cell_type": "code",
   "execution_count": 12,
   "id": "4b0fad38-3fa7-4632-9543-1b5a2e17ca06",
   "metadata": {},
   "outputs": [],
   "source": [
    "# import packages\n",
    "from sklearn.preprocessing import OrdinalEncoder\n",
    "from sklearn.model_selection import train_test_split"
   ]
  },
  {
   "cell_type": "code",
   "execution_count": 13,
   "id": "eb3bd57d-65b0-4d43-bbab-f8698fd54c4b",
   "metadata": {},
   "outputs": [
    {
     "data": {
      "text/html": [
       "<div>\n",
       "<style scoped>\n",
       "    .dataframe tbody tr th:only-of-type {\n",
       "        vertical-align: middle;\n",
       "    }\n",
       "\n",
       "    .dataframe tbody tr th {\n",
       "        vertical-align: top;\n",
       "    }\n",
       "\n",
       "    .dataframe thead th {\n",
       "        text-align: right;\n",
       "    }\n",
       "</style>\n",
       "<table border=\"1\" class=\"dataframe\">\n",
       "  <thead>\n",
       "    <tr style=\"text-align: right;\">\n",
       "      <th></th>\n",
       "      <th>id</th>\n",
       "      <th>cat0</th>\n",
       "      <th>cat1</th>\n",
       "      <th>cat2</th>\n",
       "      <th>cat3</th>\n",
       "      <th>cat4</th>\n",
       "      <th>cat5</th>\n",
       "      <th>cat6</th>\n",
       "      <th>cat7</th>\n",
       "      <th>cat8</th>\n",
       "      <th>...</th>\n",
       "      <th>cont4</th>\n",
       "      <th>cont5</th>\n",
       "      <th>cont6</th>\n",
       "      <th>cont7</th>\n",
       "      <th>cont8</th>\n",
       "      <th>cont9</th>\n",
       "      <th>cont10</th>\n",
       "      <th>cont11</th>\n",
       "      <th>cont12</th>\n",
       "      <th>cont13</th>\n",
       "    </tr>\n",
       "  </thead>\n",
       "  <tbody>\n",
       "    <tr>\n",
       "      <th>0</th>\n",
       "      <td>1</td>\n",
       "      <td>1.0</td>\n",
       "      <td>1.0</td>\n",
       "      <td>1.0</td>\n",
       "      <td>2.0</td>\n",
       "      <td>1.0</td>\n",
       "      <td>1.0</td>\n",
       "      <td>0.0</td>\n",
       "      <td>4.0</td>\n",
       "      <td>2.0</td>\n",
       "      <td>...</td>\n",
       "      <td>0.610706</td>\n",
       "      <td>0.400361</td>\n",
       "      <td>0.160266</td>\n",
       "      <td>0.310921</td>\n",
       "      <td>0.389470</td>\n",
       "      <td>0.267559</td>\n",
       "      <td>0.237281</td>\n",
       "      <td>0.377873</td>\n",
       "      <td>0.322401</td>\n",
       "      <td>0.869850</td>\n",
       "    </tr>\n",
       "    <tr>\n",
       "      <th>1</th>\n",
       "      <td>2</td>\n",
       "      <td>1.0</td>\n",
       "      <td>1.0</td>\n",
       "      <td>0.0</td>\n",
       "      <td>0.0</td>\n",
       "      <td>1.0</td>\n",
       "      <td>3.0</td>\n",
       "      <td>0.0</td>\n",
       "      <td>5.0</td>\n",
       "      <td>0.0</td>\n",
       "      <td>...</td>\n",
       "      <td>0.276853</td>\n",
       "      <td>0.533087</td>\n",
       "      <td>0.558922</td>\n",
       "      <td>0.516294</td>\n",
       "      <td>0.594928</td>\n",
       "      <td>0.341439</td>\n",
       "      <td>0.906013</td>\n",
       "      <td>0.921701</td>\n",
       "      <td>0.261975</td>\n",
       "      <td>0.465083</td>\n",
       "    </tr>\n",
       "    <tr>\n",
       "      <th>2</th>\n",
       "      <td>3</td>\n",
       "      <td>0.0</td>\n",
       "      <td>0.0</td>\n",
       "      <td>0.0</td>\n",
       "      <td>2.0</td>\n",
       "      <td>1.0</td>\n",
       "      <td>3.0</td>\n",
       "      <td>0.0</td>\n",
       "      <td>3.0</td>\n",
       "      <td>0.0</td>\n",
       "      <td>...</td>\n",
       "      <td>0.285074</td>\n",
       "      <td>0.650609</td>\n",
       "      <td>0.375348</td>\n",
       "      <td>0.902567</td>\n",
       "      <td>0.555205</td>\n",
       "      <td>0.843531</td>\n",
       "      <td>0.748809</td>\n",
       "      <td>0.620126</td>\n",
       "      <td>0.541474</td>\n",
       "      <td>0.763846</td>\n",
       "    </tr>\n",
       "    <tr>\n",
       "      <th>3</th>\n",
       "      <td>4</td>\n",
       "      <td>1.0</td>\n",
       "      <td>1.0</td>\n",
       "      <td>0.0</td>\n",
       "      <td>2.0</td>\n",
       "      <td>1.0</td>\n",
       "      <td>3.0</td>\n",
       "      <td>0.0</td>\n",
       "      <td>4.0</td>\n",
       "      <td>2.0</td>\n",
       "      <td>...</td>\n",
       "      <td>0.284667</td>\n",
       "      <td>0.668980</td>\n",
       "      <td>0.239061</td>\n",
       "      <td>0.732948</td>\n",
       "      <td>0.679618</td>\n",
       "      <td>0.574844</td>\n",
       "      <td>0.346010</td>\n",
       "      <td>0.714610</td>\n",
       "      <td>0.540150</td>\n",
       "      <td>0.280682</td>\n",
       "    </tr>\n",
       "    <tr>\n",
       "      <th>4</th>\n",
       "      <td>6</td>\n",
       "      <td>0.0</td>\n",
       "      <td>0.0</td>\n",
       "      <td>0.0</td>\n",
       "      <td>2.0</td>\n",
       "      <td>1.0</td>\n",
       "      <td>3.0</td>\n",
       "      <td>0.0</td>\n",
       "      <td>4.0</td>\n",
       "      <td>0.0</td>\n",
       "      <td>...</td>\n",
       "      <td>0.287595</td>\n",
       "      <td>0.686964</td>\n",
       "      <td>0.420667</td>\n",
       "      <td>0.648182</td>\n",
       "      <td>0.684501</td>\n",
       "      <td>0.956692</td>\n",
       "      <td>1.000773</td>\n",
       "      <td>0.776742</td>\n",
       "      <td>0.625849</td>\n",
       "      <td>0.250823</td>\n",
       "    </tr>\n",
       "  </tbody>\n",
       "</table>\n",
       "<p>5 rows × 25 columns</p>\n",
       "</div>"
      ],
      "text/plain": [
       "   id  cat0  cat1  cat2  cat3  cat4  cat5  cat6  cat7  cat8  ...     cont4  \\\n",
       "0   1   1.0   1.0   1.0   2.0   1.0   1.0   0.0   4.0   2.0  ...  0.610706   \n",
       "1   2   1.0   1.0   0.0   0.0   1.0   3.0   0.0   5.0   0.0  ...  0.276853   \n",
       "2   3   0.0   0.0   0.0   2.0   1.0   3.0   0.0   3.0   0.0  ...  0.285074   \n",
       "3   4   1.0   1.0   0.0   2.0   1.0   3.0   0.0   4.0   2.0  ...  0.284667   \n",
       "4   6   0.0   0.0   0.0   2.0   1.0   3.0   0.0   4.0   0.0  ...  0.287595   \n",
       "\n",
       "      cont5     cont6     cont7     cont8     cont9    cont10    cont11  \\\n",
       "0  0.400361  0.160266  0.310921  0.389470  0.267559  0.237281  0.377873   \n",
       "1  0.533087  0.558922  0.516294  0.594928  0.341439  0.906013  0.921701   \n",
       "2  0.650609  0.375348  0.902567  0.555205  0.843531  0.748809  0.620126   \n",
       "3  0.668980  0.239061  0.732948  0.679618  0.574844  0.346010  0.714610   \n",
       "4  0.686964  0.420667  0.648182  0.684501  0.956692  1.000773  0.776742   \n",
       "\n",
       "     cont12    cont13  \n",
       "0  0.322401  0.869850  \n",
       "1  0.261975  0.465083  \n",
       "2  0.541474  0.763846  \n",
       "3  0.540150  0.280682  \n",
       "4  0.625849  0.250823  \n",
       "\n",
       "[5 rows x 25 columns]"
      ]
     },
     "execution_count": 13,
     "metadata": {},
     "output_type": "execute_result"
    }
   ],
   "source": [
    "# List of categorical columns\n",
    "object_cols = [col for col in features.columns if 'cat' in col]\n",
    "\n",
    "# ordinal-encode categorical columns\n",
    "X = features.copy()\n",
    "ordinal_encoder = OrdinalEncoder()\n",
    "X[object_cols] = ordinal_encoder.fit_transform(features[object_cols])\n",
    "\n",
    "# Preview the ordinal-encoded features\n",
    "X.head()"
   ]
  },
  {
   "cell_type": "code",
   "execution_count": 14,
   "id": "feaab3ca-29c1-4938-978f-6045c2d47ecd",
   "metadata": {},
   "outputs": [
    {
     "data": {
      "image/png": "[encoded data removed]",
      "text/plain": [
       "<Figure size 432x288 with 2 Axes>"
      ]
     },
     "metadata": {
      "needs_background": "light"
     },
     "output_type": "display_data"
    }
   ],
   "source": [
    "# correlation heatmap of the features\n",
    "corr = X.drop(columns='id').corr()\n",
    "sns.heatmap(corr, \n",
    "        xticklabels=corr.columns,\n",
    "        yticklabels=corr.columns);"
   ]
  },
  {
   "cell_type": "code",
   "execution_count": 15,
   "id": "2d69428a-5537-4bb0-999d-6b7127c80bee",
   "metadata": {},
   "outputs": [],
   "source": [
    "# Next, we break off a validation set from the training data\n",
    "\n",
    "X_train, X_valid, y_train, y_valid = train_test_split(X, y, random_state=0)"
   ]
  },
  {
   "cell_type": "markdown",
   "id": "e87abfa1-2f72-4cc4-abba-be204c07ec3e",
   "metadata": {},
   "source": [
    "**Dimensionality Reduction:**"
   ]
  },
  {
   "cell_type": "markdown",
   "id": "a7837075-8495-4c16-891b-928d46e61908",
   "metadata": {},
   "source": [
    "In this part of project, we will use three kinds of PCA algorithms with different n_components hyperparameters and we will select the model which gives the smallest MSE value."
   ]
  },
  {
   "cell_type": "code",
   "execution_count": 17,
   "id": "6751b31c-b9fe-4443-b142-bad5f93cb9bd",
   "metadata": {},
   "outputs": [],
   "source": [
    "# import PCA\n",
    "from sklearn.decomposition import PCA"
   ]
  },
  {
   "cell_type": "code",
   "execution_count": 18,
   "id": "eada42d5-2165-432e-9a1a-185aed0b8a1a",
   "metadata": {},
   "outputs": [
    {
     "data": {
      "text/plain": [
       "(array([[-1.62710105e+05,  3.47125498e-01,  3.45962086e+00,\n",
       "         -1.11418035e+00, -1.96064842e-01],\n",
       "        [-3.22021052e+04, -6.56009882e-01,  1.73608920e+00,\n",
       "          6.52318439e-01, -2.26431518e-01],\n",
       "        [ 8.53798948e+04, -6.67261810e+00,  2.56850193e+00,\n",
       "          1.95595388e-01,  1.77761934e+00],\n",
       "        ...,\n",
       "        [ 4.60438948e+04, -6.66587419e-01,  1.78000997e+00,\n",
       "          8.73733289e-01, -2.36710842e-01],\n",
       "        [-3.62710517e+03, -6.00293734e-01, -5.66803140e-01,\n",
       "         -9.63312625e-01, -1.58890864e-01],\n",
       "        [ 5.36708948e+04,  3.64929030e-01, -2.14583306e-01,\n",
       "          1.03994935e+00, -2.30213703e-01]]),\n",
       " array([[-6.16176233e+04, -6.62304252e+00, -2.97015503e-01,\n",
       "         -1.06310502e+00, -2.23864764e-01],\n",
       "        [-2.16805623e+05, -3.63644906e+00, -2.61839990e-01,\n",
       "         -1.03709871e+00, -2.18633703e-01],\n",
       "        [-1.96665623e+05,  7.34085780e+00,  1.86264928e+00,\n",
       "         -8.67746264e-01, -2.02192944e-01],\n",
       "        ...,\n",
       "        [ 4.07263767e+04, -3.57619404e+00, -2.40869055e+00,\n",
       "         -4.11680275e-01, -1.82322093e-01],\n",
       "        [ 1.19001377e+05,  1.45303088e+00, -2.58420892e+00,\n",
       "          8.71018912e-01, -1.72495879e-01],\n",
       "        [-9.93276233e+04, -3.64729340e+00,  1.70707929e+00,\n",
       "         -6.93632665e-01,  1.77998579e+00]]))"
      ]
     },
     "execution_count": 18,
     "metadata": {},
     "output_type": "execute_result"
    }
   ],
   "source": [
    "# we reduce to 5 components\n",
    "PCA = PCA(n_components=5)\n",
    "X_trans_train  = PCA.fit_transform(X_train)\n",
    "X_trans_valid  = PCA.fit_transform(X_valid)\n",
    "X_trans_train, X_trans_valid"
   ]
  },
  {
   "cell_type": "code",
   "execution_count": 27,
   "id": "5d85d225-f7f4-431c-86eb-2f01ab7b2dd2",
   "metadata": {},
   "outputs": [],
   "source": [
    "from sklearn.preprocessing import MinMaxScaler\n",
    "\n",
    "scaler = MinMaxScaler()\n",
    "X_trans_train = scaler.fit_transform(X_trans_train)    \n",
    "X_trans_valid = scaler.fit_transform(X_trans_valid)\n",
    "\n",
    "X_trans_train = pd.DataFrame(X_trans_train, columns = ['A', 'B', 'C', 'D', 'E'])\n",
    "X_trans_valid = pd.DataFrame(X_trans_valid, columns = ['A', 'B', 'C', 'D', 'E'])"
   ]
  },
  {
   "cell_type": "markdown",
   "id": "dee9c01d-1f3f-4654-a90c-65b263e7117e",
   "metadata": {},
   "source": [
    "### 4. Summary of training three Activation Function:"
   ]
  },
  {
   "cell_type": "code",
   "execution_count": 22,
   "id": "a9c5f4cf-2077-49af-9948-eb34ab97726d",
   "metadata": {},
   "outputs": [],
   "source": [
    "# import DL libraries\n",
    "\n",
    "import tensorflow as tf\n",
    "from tensorflow import keras\n",
    "from tensorflow.keras import layers\n",
    "from keras.models import Sequential\n",
    "from keras.layers import Activation, Input, Dense, Flatten, Dropout, BatchNormalization\n",
    "from keras.optimizers import Adam, SGD, RMSprop"
   ]
  },
  {
   "cell_type": "markdown",
   "id": "ba74276a-1cb5-4434-8a4d-81fe3bd48f3c",
   "metadata": {},
   "source": [
    "#### 4a. Model with 6 Hidden Layer:"
   ]
  },
  {
   "cell_type": "code",
   "execution_count": 35,
   "id": "a3d569d1-0bfb-4247-b6cb-a7efa7028c85",
   "metadata": {},
   "outputs": [
    {
     "name": "stdout",
     "output_type": "stream",
     "text": [
      "22500/22500 [==============================] - 14s 639us/step - loss: -592.3851 - accuracy: 0.0000e+0014s - loss: -20.1334 - accuracy: 0 - ETA: 13s - loss: -43.0568 - ac - ETA: 12s - loss - ETA: 8s - loss: - - ETA: 7s - loss: -309.3697 - accuracy: 0.00 - ETA: 6s - loss: -\n"
     ]
    }
   ],
   "source": [
    "# Define the Model \n",
    "\n",
    "model_1 = Sequential()\n",
    "#first hidden layer\n",
    "model_1.add(Dense(units = 6,  activation='sigmoid', input_dim = 5))\n",
    "#second hidden layer\n",
    "model_1.add(Dense(units = 6,  activation='sigmoid', input_dim = 5))\n",
    "#output layer\n",
    "model_1.add(Dense(units = 1,  activation='sigmoid'))\n",
    "\n",
    "# compiling\n",
    "model_1.compile(optimizer= 'adam', loss= 'binary_crossentropy', metrics = ['accuracy'])\n",
    "\n",
    "# fitting\n",
    "model_1.fit(X_trans_train, y_train, batch_size = 10 )\n",
    "\n",
    "#predict\n",
    "y_pred_ANN_1 = model_1.predict(X_trans_valid)"
   ]
  },
  {
   "cell_type": "code",
   "execution_count": 51,
   "id": "7f2fcb92-acfd-4eba-972d-6ed40e91cf48",
   "metadata": {},
   "outputs": [
    {
     "data": {
      "text/plain": [
       "7.191170891367855"
      ]
     },
     "execution_count": 51,
     "metadata": {},
     "output_type": "execute_result"
    }
   ],
   "source": [
    "#performance evaluation\n",
    "\n",
    "from sklearn.metrics import median_absolute_error\n",
    "\n",
    "median_absolute_error(y_valid, y_pred_ANN_1)"
   ]
  },
  {
   "cell_type": "markdown",
   "id": "f9eb849f-6d37-430f-b4d1-9c9b1fa58ce0",
   "metadata": {},
   "source": [
    "#### 4b. Model with 8 Hidden Layer:"
   ]
  },
  {
   "cell_type": "code",
   "execution_count": 40,
   "id": "c4835358-b624-4c69-838d-b17b81a53277",
   "metadata": {},
   "outputs": [
    {
     "name": "stdout",
     "output_type": "stream",
     "text": [
      "22500/22500 [==============================] - 14s 643us/step - loss: -714.0081 - accuracy: 0.0000e+008s - loss: -264 - ETA: 7s -  - ETA: 5s - loss: -427.5361 - accuracy: 0. - ETA: 5s - loss: -448.0819 - accu - ETA: 4s - loss: -490.1266 - accuracy: 0.0 - ETA: 1s - loss: -64\n"
     ]
    }
   ],
   "source": [
    "# Define the Model \n",
    "\n",
    "model_2 = Sequential()\n",
    "#first hidden layer\n",
    "model_2.add(Dense(units = 8,  activation='sigmoid', input_dim = 5))\n",
    "#second hidden layer\n",
    "model_2.add(Dense(units = 8,  activation='sigmoid', input_dim = 5))\n",
    "#output layer\n",
    "model_2.add(Dense(units = 1,  activation='sigmoid'))\n",
    "\n",
    "# compiling\n",
    "model_2.compile(optimizer= 'adam', loss= 'binary_crossentropy', metrics = ['accuracy'])\n",
    "\n",
    "# fitting\n",
    "model_2.fit(X_trans_train, y_train, batch_size = 10 )\n",
    "\n",
    "#predict\n",
    "y_pred_ANN_2 = model_2.predict(X_trans_valid)"
   ]
  },
  {
   "cell_type": "code",
   "execution_count": 54,
   "id": "6e82ad13-f57f-4770-8b92-6c04b2e0c641",
   "metadata": {},
   "outputs": [
    {
     "data": {
      "text/plain": [
       "7.239457593409309"
      ]
     },
     "execution_count": 54,
     "metadata": {},
     "output_type": "execute_result"
    }
   ],
   "source": [
    "#performance evaluation\n",
    "\n",
    "from sklearn.metrics import median_absolute_error\n",
    "\n",
    "mean_absolute_error(y_valid, y_pred_ANN_2)"
   ]
  },
  {
   "cell_type": "markdown",
   "id": "32878353-df74-4f20-94c0-4d3d316b2e6f",
   "metadata": {},
   "source": [
    "#### 4c. Model with 10 Hidden Layer:"
   ]
  },
  {
   "cell_type": "code",
   "execution_count": 52,
   "id": "521ee5ae-0011-4d39-bc46-90c732374ea6",
   "metadata": {},
   "outputs": [
    {
     "name": "stdout",
     "output_type": "stream",
     "text": [
      "22500/22500 [==============================] - 15s 669us/step - loss: -911.2892 - accuracy: 0.0000e+00\n"
     ]
    }
   ],
   "source": [
    "# Define the Model \n",
    "\n",
    "model_3 = Sequential()\n",
    "#first hidden layer\n",
    "model_3.add(Dense(units = 10,  activation='sigmoid', input_dim = 5))\n",
    "#second hidden layer\n",
    "model_3.add(Dense(units = 10,  activation='sigmoid', input_dim = 5))\n",
    "#output layer\n",
    "model_3.add(Dense(units = 1,  activation='sigmoid'))\n",
    "\n",
    "# compiling\n",
    "model_3.compile(optimizer= 'adam', loss= 'binary_crossentropy', metrics = ['accuracy'])\n",
    "\n",
    "# fitting\n",
    "model_3.fit(X_trans_train, y_train, batch_size = 10 )\n",
    "\n",
    "#predict\n",
    "y_pred_ANN_3 = model_3.predict(X_trans_valid)"
   ]
  },
  {
   "cell_type": "code",
   "execution_count": 53,
   "id": "d21de166-9219-45ee-a311-3221876415c6",
   "metadata": {},
   "outputs": [
    {
     "data": {
      "text/plain": [
       "7.239457593409309"
      ]
     },
     "execution_count": 53,
     "metadata": {},
     "output_type": "execute_result"
    }
   ],
   "source": [
    "#performance evaluation\n",
    "\n",
    "from sklearn.metrics import mean_absolute_error\n",
    "\n",
    "mean_absolute_error(y_valid, y_pred_ANN_3)"
   ]
  },
  {
   "cell_type": "markdown",
   "id": "90a67f47-4136-430a-a785-9faced890c06",
   "metadata": {},
   "source": [
    "### 5. Recommended Model:"
   ]
  },
  {
   "cell_type": "markdown",
   "id": "ab8f37a6-b47f-4ec8-aa1a-2a7422457d72",
   "metadata": {},
   "source": [
    "When we look at the MAE values, we can see that the model with 6 hidden layer is best model."
   ]
  },
  {
   "cell_type": "markdown",
   "id": "e80745cb-c1e8-4eff-b5d4-becaf8881a0f",
   "metadata": {},
   "source": [
    "### 6. Key Findings and Insights:"
   ]
  },
  {
   "cell_type": "markdown",
   "id": "97008902-dd29-4daa-815d-2429f4d3aebd",
   "metadata": {},
   "source": [
    "According to the findings of this project 6-layer model gives the best result, whereas 8-layer and 10-layer models give worse scores."
   ]
  },
  {
   "cell_type": "markdown",
   "id": "237b97aa-83f5-4421-b26b-b44e40f175b3",
   "metadata": {},
   "source": [
    "### 7. Suggestions for Next Steps:"
   ]
  },
  {
   "cell_type": "markdown",
   "id": "5ad396cc-3a4b-423f-8440-e2a7c961f737",
   "metadata": {},
   "source": [
    "For next steps of this project, different keras models can be used."
   ]
  },
  {
   "cell_type": "code",
   "execution_count": null,
   "id": "b476ec75-77c9-4589-bd38-b4a66af3bcc1",
   "metadata": {},
   "outputs": [],
   "source": []
  }
 ],
 "metadata": {
  "kernelspec": {
   "display_name": "Python 3",
   "language": "python",
   "name": "python3"
  },
  "language_info": {
   "codemirror_mode": {
    "name": "ipython",
    "version": 3
   },
   "file_extension": ".py",
   "mimetype": "text/x-python",
   "name": "python",
   "nbconvert_exporter": "python",
   "pygments_lexer": "ipython3",
   "version": "3.8.8"
  }
 },
 "nbformat": 4,
 "nbformat_minor": 5
}
